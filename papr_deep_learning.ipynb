{
  "nbformat": 4,
  "nbformat_minor": 0,
  "metadata": {
    "colab": {
      "provenance": []
    },
    "kernelspec": {
      "name": "python3",
      "display_name": "Python 3"
    }
  },
  "cells": [
    {
      "cell_type": "code",
      "source": [
        "import numpy as np\n",
        "import tensorflow as tf\n",
        "import tensorflow_probability as tfp\n",
        "from tensorflow import keras\n",
        "from keras.models import Model\n",
        "from keras.optimizers import Adam\n",
        "from keras.callbacks import EarlyStopping\n",
        "from keras.layers import Input, Dense, BatchNormalization, Activation, Lambda\n",
        "import matplotlib.pyplot as plt\n",
        "\n",
        "np.random.seed(1)"
      ],
      "metadata": {
        "id": "GcYHMTUWkyHr"
      },
      "execution_count": 1,
      "outputs": []
    },
    {
      "cell_type": "code",
      "source": [
        "class modulator:\n",
        "    def __init__(self, M, gray_map=True):\n",
        "        N = np.log2(M)  # bits per symbol\n",
        "        self.M = M  # modulation order\n",
        "        self.N = int(N)  # bits per symbol\n",
        "        self.m = [i for i in range(self.M)]\n",
        "        self.gray_map = gray_map\n",
        "\n",
        "    def __gray_encoding(self, dec_in):\n",
        "        bin_seq = [np.binary_repr(d, width=self.N) for d in dec_in]\n",
        "        gray_out = []\n",
        "        for bin_i in bin_seq:\n",
        "            gray_vals = [str(int(bin_i[idx]) ^ int(bin_i[idx - 1]))\n",
        "                         if idx != 0 else bin_i[0]\n",
        "                         for idx in range(0, len(bin_i))]\n",
        "            gray_i = \"\".join(gray_vals)\n",
        "            gray_out.append(int(gray_i, 2))\n",
        "        return gray_out\n",
        "\n",
        "    def create_constellation(self, m, s):\n",
        "        if self.gray_map == False:\n",
        "            mb = self.de2bin(m)\n",
        "            dict_out = {k: v for k, v in zip(mb, s)}\n",
        "        elif self.gray_map == True:\n",
        "            mg = self.__gray_encoding(m)\n",
        "            mgb = self.de2bin(mg)\n",
        "            dict_out = {k: v for k, v in zip(mgb, s)}\n",
        "        return dict_out\n",
        "\n",
        "    def llr_preparation(self):\n",
        "        code_book = self.code_book\n",
        "        zeros = [[] for i in range(self.N)]\n",
        "        ones = [[] for i in range(self.N)]\n",
        "        bin_seq = self.de2bin(self.m)\n",
        "        for bin_idx, bin_symb in enumerate(bin_seq):\n",
        "            key = bin_symb\n",
        "            for possition, digit in enumerate(bin_symb):\n",
        "                if digit == '0':\n",
        "                    zeros[possition].append(code_book[key])\n",
        "                else:\n",
        "                    ones[possition].append(code_book[key])\n",
        "        return zeros, ones\n",
        "\n",
        "    def modulate(self, msg):\n",
        "        msg = [str(bit) for bit in msg]\n",
        "        splited = [\"\".join(msg[i:i + self.N])  for i in range(0, len(msg), self.N)]  # subsequences of bits\n",
        "        modulated = [self.code_book[s] for s in splited]\n",
        "        return np.array(modulated)\n",
        "\n",
        "class QAM(modulator):\n",
        "    def __init__(self, M, gray_map=True):\n",
        "        super().__init__(M, gray_map)\n",
        "        if np.sqrt(M) != np.fix(np.sqrt(M)) or np.log2(np.sqrt(M)) != np.fix(np.log2(np.sqrt(M))):\n",
        "            raise ValueError('M must be a square of a power of 2')\n",
        "        self.m = [i for i in range(self.M)]\n",
        "        self.s = self.__qam_symbols()\n",
        "        self.code_book = self.create_constellation(self.m, self.s)\n",
        "        if self.gray_map:\n",
        "            self.__gray_qam_arange()\n",
        "\n",
        "        self.zeros, self.ones = self.llr_preparation()\n",
        "\n",
        "    def __qam_symbols(self):\n",
        "        c = np.sqrt(self.M)\n",
        "        b = -2 * (np.array(self.m) % c) + c - 1\n",
        "        a = 2 * np.floor(np.array(self.m) / c) - c + 1\n",
        "        s = list((a + 1j * b))\n",
        "        return s\n",
        "\n",
        "    def __gray_qam_arange(self):\n",
        "        for idx, (key, item) in enumerate(self.code_book.items()):\n",
        "            if (np.floor(idx / np.sqrt(self.M)) % 2) != 0:\n",
        "                self.code_book[key] = np.conj(item)\n",
        "\n",
        "    def de2bin(self, decs):\n",
        "        bin_out = [np.binary_repr(d, width=self.N) for d in decs]\n",
        "        return bin_out"
      ],
      "metadata": {
        "id": "5Jmf_qV0bjMU"
      },
      "execution_count": 2,
      "outputs": []
    },
    {
      "cell_type": "code",
      "source": [
        "fad_para = 0.5            # Rayleigh fading parameter\n",
        "SNR = 25                  # SNR (dB) value used for training\n",
        "M = 4                     # modulation order for QPSK\n",
        "k = int(np.log2(M))       # bits per symbol\n",
        "N = 64                    # no. of subcarriers\n",
        "data = []                 # Initiates a varioable for training/testing dataset\n",
        "BitsPerDataSeq = N * k    # no. of subcarriers x bits per symbol\n",
        "\n",
        "learning_rate = 0.001     # Learning rate for the Adam Optimizer\n",
        "weight_papr =  0.001      # try different values between 0.001 to 0.5 observe the accuracy and loss performance\n",
        "\n",
        "batchsize = 100           # Size of each iteration\n",
        "no_of_epochs = 50         # No. of iterations\n",
        "\n",
        "train_dataset_size = 5000\n",
        "test_dataset_size = 200000"
      ],
      "metadata": {
        "id": "SdtPAJj6kzyS"
      },
      "execution_count": 3,
      "outputs": []
    },
    {
      "cell_type": "code",
      "source": [
        "# generate training dataset\n",
        "data = []\n",
        "for i in range(0, BitsPerDataSeq) :\n",
        "  training = np.random.randint(2, size=train_dataset_size)\n",
        "  data.append(training)\n",
        "\n",
        "# convert list to an array\n",
        "train_dataset = np.array(data)\n",
        "train_dataset = train_dataset.reshape(-1, BitsPerDataSeq)"
      ],
      "metadata": {
        "id": "PhFP8WaLa7hq"
      },
      "execution_count": 4,
      "outputs": []
    },
    {
      "cell_type": "code",
      "source": [
        "# print shape of training dataset\n",
        "print(train_dataset.shape)"
      ],
      "metadata": {
        "colab": {
          "base_uri": "https://localhost:8080/"
        },
        "id": "aYEpETefYjwk",
        "outputId": "5577e708-d9d9-4b8e-fd41-52fc7d079997"
      },
      "execution_count": 5,
      "outputs": [
        {
          "output_type": "stream",
          "name": "stdout",
          "text": [
            "(5000, 128)\n"
          ]
        }
      ]
    },
    {
      "cell_type": "code",
      "source": [
        "print(train_dataset)"
      ],
      "metadata": {
        "colab": {
          "base_uri": "https://localhost:8080/"
        },
        "id": "hvzqxwLC7wBd",
        "outputId": "159202fe-57b1-4bbc-9531-9bc2d4c155fb"
      },
      "execution_count": 6,
      "outputs": [
        {
          "output_type": "stream",
          "name": "stdout",
          "text": [
            "[[1 1 0 ... 1 1 0]\n",
            " [0 1 1 ... 0 1 1]\n",
            " [0 0 0 ... 1 1 0]\n",
            " ...\n",
            " [0 1 1 ... 0 1 0]\n",
            " [0 0 0 ... 1 1 0]\n",
            " [1 0 1 ... 1 1 0]]\n"
          ]
        }
      ]
    },
    {
      "cell_type": "code",
      "source": [
        "# generate test dataset\n",
        "data = []\n",
        "for i in range(0, BitsPerDataSeq) :\n",
        "  testing = np.random.randint(2, size=test_dataset_size)\n",
        "  data.append(testing)\n",
        "\n",
        "# convert list to an array\n",
        "test_dataset = np.array(data)\n",
        "test_dataset = test_dataset.reshape(-1, BitsPerDataSeq)\n",
        "\n",
        "\n",
        "#print test data and shape\n",
        "print(test_dataset)\n",
        "print(test_dataset.shape)\n"
      ],
      "metadata": {
        "colab": {
          "base_uri": "https://localhost:8080/"
        },
        "id": "0vv0tt4mH5tv",
        "outputId": "9961acb4-c8f5-4196-b412-b47d217447fc"
      },
      "execution_count": 7,
      "outputs": [
        {
          "output_type": "stream",
          "name": "stdout",
          "text": [
            "[[1 0 1 ... 0 1 0]\n",
            " [1 0 1 ... 0 1 1]\n",
            " [0 0 0 ... 0 0 0]\n",
            " ...\n",
            " [0 1 0 ... 0 1 1]\n",
            " [1 1 0 ... 0 1 0]\n",
            " [0 1 0 ... 1 1 0]]\n",
            "(200000, 128)\n"
          ]
        }
      ]
    },
    {
      "cell_type": "code",
      "source": [
        "def IFFT(tensor):\n",
        "    return tf.signal.ifft(tf.complex(tensor[:, 0:N], tensor[:, N:]))"
      ],
      "metadata": {
        "id": "br0Fsdilk1gr"
      },
      "execution_count": 8,
      "outputs": []
    },
    {
      "cell_type": "code",
      "source": [
        "# taking BitsPerDataSeq as input\n",
        "inputs = Input(shape = (BitsPerDataSeq,))\n",
        "\n",
        "# ------ Constellation Mapper Model --------\n",
        "# Dense layer 1, Input shape = (None, 128), Output Shape = (None, 2048)\n",
        "M_hidden_layer_1= Dense(2048, activation='relu')(inputs)\n",
        "# BatchNormalization layer 1, Input shape = (None, 2048), Output Shape = (None, 2048)\n",
        "M_hidden_layer_2 = BatchNormalization(center=False, scale=False)(M_hidden_layer_1)\n",
        "# Activation layer 1, Input shape = (None, 2048), Output Shape = (None, 2048)\n",
        "M_hidden_layer_3 = Activation('relu')(M_hidden_layer_2)\n",
        "\n",
        "# Dense layer 2, Input shape = (None, 2048), Output Shape = (None, 1024)\n",
        "M_hidden_layer_4 = Dense(1024, activation='relu')(M_hidden_layer_3)\n",
        "# BatchNormalization layer 2, Input shape = (None, 1024), Output Shape = (None, 1024)\n",
        "M_hidden_layer_5 = BatchNormalization(center=False, scale=False)(M_hidden_layer_4)\n",
        "# Activation layer 2, Input shape = (None, 1024), Output Shape = (None, 1024)\n",
        "M_hidden_layer_6 = Activation('relu')(M_hidden_layer_5)\n",
        "\n",
        "# Dense layer 3, Input shape = (None, 1024), Output Shape = (None, 512)\n",
        "M_hidden_layer_7 = Dense(512, activation='relu')(M_hidden_layer_6)\n",
        "# BatchNormalization layer 3, Input shape = (None, 512), Output Shape = (None, 512)\n",
        "M_hidden_layer_8 = BatchNormalization(center=False, scale=False)(M_hidden_layer_7)\n",
        "# Activation layer 3, Input shape = (None, 512), Output Shape = (None, 512)\n",
        "M_hidden_layer_9 = Activation('relu')(M_hidden_layer_8)\n",
        "\n",
        "# Dense layer 4, Input shape = (None, 512), Output Shape = (None, 256)\n",
        "M_hidden_layer_10 = Dense(256, activation='relu')(M_hidden_layer_9)\n",
        "# BatchNormalization layer 4, Input shape = (None, 256), Output Shape = (None, 256)\n",
        "M_hidden_layer_11 = BatchNormalization(center=False, scale=False)(M_hidden_layer_10)\n",
        "# Activation layer 4, Input shape = (None, 256), Output Shape = (None, 256)\n",
        "M_hidden_layer_12 = Activation('relu')(M_hidden_layer_11)\n",
        "\n",
        "# Dense layer 5, Input shape = (None, 256), Output Shape = (None, 128)\n",
        "e13 = Dense(BitsPerDataSeq, activation='sigmoid') (M_hidden_layer_12)\n",
        "\n",
        "# IFFT layer, Input shape = (None, 128), Output Shape = (None, 64)\n",
        "encoded_OFDM_symbol = Lambda(lambda x: IFFT(x), name='encoded_OFDM_symbol') (e13)\n",
        "\n",
        "constellation_mapper = Model(inputs=inputs, outputs=encoded_OFDM_symbol)\n",
        "print(constellation_mapper.summary())\n"
      ],
      "metadata": {
        "id": "BWSF9iN3k4vy",
        "colab": {
          "base_uri": "https://localhost:8080/"
        },
        "outputId": "bb31724d-2625-497c-8780-d74cefc6e985"
      },
      "execution_count": 9,
      "outputs": [
        {
          "output_type": "stream",
          "name": "stdout",
          "text": [
            "Model: \"model\"\n",
            "_________________________________________________________________\n",
            " Layer (type)                Output Shape              Param #   \n",
            "=================================================================\n",
            " input_1 (InputLayer)        [(None, 128)]             0         \n",
            "                                                                 \n",
            " dense (Dense)               (None, 2048)              264192    \n",
            "                                                                 \n",
            " batch_normalization (Batch  (None, 2048)              4096      \n",
            " Normalization)                                                  \n",
            "                                                                 \n",
            " activation (Activation)     (None, 2048)              0         \n",
            "                                                                 \n",
            " dense_1 (Dense)             (None, 1024)              2098176   \n",
            "                                                                 \n",
            " batch_normalization_1 (Bat  (None, 1024)              2048      \n",
            " chNormalization)                                                \n",
            "                                                                 \n",
            " activation_1 (Activation)   (None, 1024)              0         \n",
            "                                                                 \n",
            " dense_2 (Dense)             (None, 512)               524800    \n",
            "                                                                 \n",
            " batch_normalization_2 (Bat  (None, 512)               1024      \n",
            " chNormalization)                                                \n",
            "                                                                 \n",
            " activation_2 (Activation)   (None, 512)               0         \n",
            "                                                                 \n",
            " dense_3 (Dense)             (None, 256)               131328    \n",
            "                                                                 \n",
            " batch_normalization_3 (Bat  (None, 256)               512       \n",
            " chNormalization)                                                \n",
            "                                                                 \n",
            " activation_3 (Activation)   (None, 256)               0         \n",
            "                                                                 \n",
            " dense_4 (Dense)             (None, 128)               32896     \n",
            "                                                                 \n",
            " encoded_OFDM_symbol (Lambd  (None, 64)                0         \n",
            " a)                                                              \n",
            "                                                                 \n",
            "=================================================================\n",
            "Total params: 3059072 (11.67 MB)\n",
            "Trainable params: 3051392 (11.64 MB)\n",
            "Non-trainable params: 7680 (30.00 KB)\n",
            "_________________________________________________________________\n",
            "None\n"
          ]
        }
      ]
    },
    {
      "cell_type": "code",
      "source": [
        "# create channel model, apply equalizatopm and FFT ---\n",
        "\n",
        "def Channel_Equalizer_FFT(tensor):\n",
        "    # Compute symbol average\n",
        "    symbol_avg = tf.reduce_mean(tf.square(tf.abs(tensor)))\n",
        "    # Compute noise average using SNR\n",
        "    SNR_lin = 10 ** (SNR / 10)\n",
        "    noise_avg = symbol_avg/SNR_lin\n",
        "    # Compute real component of noise\n",
        "    noise_real = tf.math.real(noise_avg)\n",
        "    # Compute imaginary component of noise\n",
        "    noise_imag = tf.math.imag(noise_avg)\n",
        "    # Generate the fading gain\n",
        "    rayleigh_real = tf.sqrt(0.5)*tf.random.normal(shape=())\n",
        "    rayleigh_imag = tf.sqrt(0.5)*tf.random.normal(shape=())\n",
        "    #combine the real and imaginary parts\n",
        "    rayleigh = tf.complex(rayleigh_real, rayleigh_imag)\n",
        "\n",
        "    #Corruption = Channel Effect + AWGN\n",
        "    #combine the real and imaginary parts for noise\n",
        "    noise = tf.complex(noise_real, noise_imag)\n",
        "    # Generate corruption using noise components and fading gain\n",
        "    corruption = rayleigh + noise\n",
        "    #Equalizing done on received signal\n",
        "    equalized_recv_sig = corruption + encoded_OFDM_symbol\n",
        "\n",
        "    #perform fft on the equlized received signal\n",
        "    corrupted_bit_seq_complex = tf.signal.fft(equalized_recv_sig)\n",
        "\n",
        "    return tf.keras.layers.Concatenate(axis=-1) ( [ tf.math.real( corrupted_bit_seq_complex ), tf.math.imag( corrupted_bit_seq_complex ) ] )\n",
        "\n",
        "# ------ Channel + Equalizer + FFT --------\n",
        "# taking encoded_OFDM_symbol as input, produce corrupted_bit_seq as output\n",
        "corrupted_bit_seq = Channel_Equalizer_FFT(encoded_OFDM_symbol)\n",
        "print(corrupted_bit_seq)"
      ],
      "metadata": {
        "id": "0qeQX1pJdT1X",
        "colab": {
          "base_uri": "https://localhost:8080/"
        },
        "outputId": "c74d35b1-0394-4e29-d038-3b89d32e961a"
      },
      "execution_count": 10,
      "outputs": [
        {
          "output_type": "stream",
          "name": "stdout",
          "text": [
            "KerasTensor(type_spec=TensorSpec(shape=(None, 128), dtype=tf.float32, name=None), name='concatenate/concat:0', description=\"created by layer 'concatenate'\")\n"
          ]
        }
      ]
    },
    {
      "cell_type": "code",
      "source": [
        "# create Constellation Demapper Model ---\n",
        "# ------ Constellation Demapper Model --------\n",
        "\n",
        "# Dense layer 1, Input shape = (None, 128), Output Shape = (None, 2048)\n",
        "D_hidden_layer_1= Dense(2048, activation='relu')(corrupted_bit_seq)\n",
        "# BatchNormalization layer 1, Input shape = (None, 2048), Output Shape = (None, 2048)\n",
        "D_hidden_layer_2 = BatchNormalization(center=False, scale=False)(D_hidden_layer_1)\n",
        "# Activation layer 1, Input shape = (None, 128), Output Shape = (None, 2048)\n",
        "D_hidden_layer_3 = Activation('relu')(D_hidden_layer_2)\n",
        "\n",
        "# Dense layer 2, Input shape = (None, 2048), Output Shape = (None, 1024)\n",
        "D_hidden_layer_4 = Dense(1024, activation='relu')(D_hidden_layer_3)\n",
        "# BatchNormalization layer 2, Input shape = (None, 1024), Output Shape = (None, 1024)\n",
        "D_hidden_layer_5 = BatchNormalization(center=False, scale=False)(D_hidden_layer_4)\n",
        "# Activation layer 2, Input shape = (None, 1024), Output Shape = (None, 1024)\n",
        "D_hidden_layer_6 = Activation('relu')(D_hidden_layer_5)\n",
        "\n",
        "# Dense layer 3, Input shape = (None, 1024), Output Shape = (None, 512)\n",
        "D_hidden_layer_7 = Dense(512, activation='relu')(D_hidden_layer_6)\n",
        "# BatchNormalization layer 3, Input shape = (None, 512), Output Shape = (None, 512)\n",
        "D_hidden_layer_8 = BatchNormalization(center=False, scale=False)(D_hidden_layer_7)\n",
        "# Activation layer 3, Input shape = (None, 512), Output Shape = (None, 512)\n",
        "D_hidden_layer_9 = Activation('relu')(D_hidden_layer_8)\n",
        "\n",
        "# Dense layer 4, Input shape = (None, 512), Output Shape = (None, 256)\n",
        "D_hidden_layer_10 = Dense(256, activation='relu')(D_hidden_layer_9)\n",
        "# BatchNormalization layer 4, Input shape = (None, 256), Output Shape = (None, 256)\n",
        "D_hidden_layer_11 = BatchNormalization(center=False, scale=False)(D_hidden_layer_10)\n",
        "# Activation layer 4, Input shape = (None, 256), Output Shape = (None, 256)\n",
        "D_hidden_layer_12 = Activation('relu')(D_hidden_layer_11)\n",
        "\n",
        "# Dense layer 5, Input shape = (None, 256), Output Shape = (None, 128)\n",
        "predicted_bit_seq = Dense(BitsPerDataSeq, activation='sigmoid', name='predicted_bit_seq') (D_hidden_layer_12)\n",
        "\n",
        "# taking corrupted_bit_seq as input\n",
        "# produce encoded_OFDM_symbol as predicted_bit_seq\n",
        "constellation_demapper = Model(inputs=corrupted_bit_seq, outputs=predicted_bit_seq)\n",
        "\n",
        "# define and print constellation demapper model summary\n",
        "print(constellation_demapper.summary())"
      ],
      "metadata": {
        "id": "unw5TkHGdTum",
        "colab": {
          "base_uri": "https://localhost:8080/"
        },
        "outputId": "44b74a00-a1d2-4982-ccae-bc38f0131303"
      },
      "execution_count": 11,
      "outputs": [
        {
          "output_type": "stream",
          "name": "stdout",
          "text": [
            "Model: \"model_1\"\n",
            "_________________________________________________________________\n",
            " Layer (type)                Output Shape              Param #   \n",
            "=================================================================\n",
            " input_2 (InputLayer)        [(None, 128)]             0         \n",
            "                                                                 \n",
            " dense_5 (Dense)             (None, 2048)              264192    \n",
            "                                                                 \n",
            " batch_normalization_4 (Bat  (None, 2048)              4096      \n",
            " chNormalization)                                                \n",
            "                                                                 \n",
            " activation_4 (Activation)   (None, 2048)              0         \n",
            "                                                                 \n",
            " dense_6 (Dense)             (None, 1024)              2098176   \n",
            "                                                                 \n",
            " batch_normalization_5 (Bat  (None, 1024)              2048      \n",
            " chNormalization)                                                \n",
            "                                                                 \n",
            " activation_5 (Activation)   (None, 1024)              0         \n",
            "                                                                 \n",
            " dense_7 (Dense)             (None, 512)               524800    \n",
            "                                                                 \n",
            " batch_normalization_6 (Bat  (None, 512)               1024      \n",
            " chNormalization)                                                \n",
            "                                                                 \n",
            " activation_6 (Activation)   (None, 512)               0         \n",
            "                                                                 \n",
            " dense_8 (Dense)             (None, 256)               131328    \n",
            "                                                                 \n",
            " batch_normalization_7 (Bat  (None, 256)               512       \n",
            " chNormalization)                                                \n",
            "                                                                 \n",
            " activation_7 (Activation)   (None, 256)               0         \n",
            "                                                                 \n",
            " predicted_bit_seq (Dense)   (None, 128)               32896     \n",
            "                                                                 \n",
            "=================================================================\n",
            "Total params: 3059072 (11.67 MB)\n",
            "Trainable params: 3051392 (11.64 MB)\n",
            "Non-trainable params: 7680 (30.00 KB)\n",
            "_________________________________________________________________\n",
            "None\n"
          ]
        }
      ]
    },
    {
      "cell_type": "code",
      "source": [
        "\n",
        "def symbol_papr(y_true, y_pred):\n",
        "    x = tf.square(tf.abs(y_pred))\n",
        "    return 10*tf.experimental.numpy.log10(tf.reduce_mean(tf.reduce_max(x, axis=1) / tf.reduce_mean(x, axis=1)))\n"
      ],
      "metadata": {
        "id": "WBKIGCn2LRLh"
      },
      "execution_count": 12,
      "outputs": []
    },
    {
      "cell_type": "code",
      "source": [
        "# create an autocoder model ---\n",
        "\n",
        "# define and print autoencoder model summary\n",
        "autoencoder = Model(inputs=inputs, outputs=[encoded_OFDM_symbol, predicted_bit_seq])\n",
        "\n",
        "adam = Adam(learning_rate = 0.001)\n",
        "\n",
        "autoencoder.compile(optimizer = adam,\n",
        "                    loss = {'encoded_OFDM_symbol': symbol_papr, 'predicted_bit_seq': 'binary_crossentropy'},\n",
        "                    loss_weights = [weight_papr, 1-weight_papr],\n",
        "                    metrics = {'predicted_bit_seq':'binary_accuracy'})\n",
        "\n",
        "print(autoencoder.summary())\n",
        "# compile autoencoder model\n"
      ],
      "metadata": {
        "id": "fN8SHa-4dUme",
        "colab": {
          "base_uri": "https://localhost:8080/"
        },
        "outputId": "9f57f2e2-29c5-4770-d316-cd69004b4b85"
      },
      "execution_count": 13,
      "outputs": [
        {
          "output_type": "stream",
          "name": "stdout",
          "text": [
            "Model: \"model_2\"\n",
            "__________________________________________________________________________________________________\n",
            " Layer (type)                Output Shape                 Param #   Connected to                  \n",
            "==================================================================================================\n",
            " input_1 (InputLayer)        [(None, 128)]                0         []                            \n",
            "                                                                                                  \n",
            " dense (Dense)               (None, 2048)                 264192    ['input_1[0][0]']             \n",
            "                                                                                                  \n",
            " batch_normalization (Batch  (None, 2048)                 4096      ['dense[0][0]']               \n",
            " Normalization)                                                                                   \n",
            "                                                                                                  \n",
            " activation (Activation)     (None, 2048)                 0         ['batch_normalization[0][0]'] \n",
            "                                                                                                  \n",
            " dense_1 (Dense)             (None, 1024)                 2098176   ['activation[0][0]']          \n",
            "                                                                                                  \n",
            " batch_normalization_1 (Bat  (None, 1024)                 2048      ['dense_1[0][0]']             \n",
            " chNormalization)                                                                                 \n",
            "                                                                                                  \n",
            " activation_1 (Activation)   (None, 1024)                 0         ['batch_normalization_1[0][0]'\n",
            "                                                                    ]                             \n",
            "                                                                                                  \n",
            " dense_2 (Dense)             (None, 512)                  524800    ['activation_1[0][0]']        \n",
            "                                                                                                  \n",
            " batch_normalization_2 (Bat  (None, 512)                  1024      ['dense_2[0][0]']             \n",
            " chNormalization)                                                                                 \n",
            "                                                                                                  \n",
            " activation_2 (Activation)   (None, 512)                  0         ['batch_normalization_2[0][0]'\n",
            "                                                                    ]                             \n",
            "                                                                                                  \n",
            " dense_3 (Dense)             (None, 256)                  131328    ['activation_2[0][0]']        \n",
            "                                                                                                  \n",
            " batch_normalization_3 (Bat  (None, 256)                  512       ['dense_3[0][0]']             \n",
            " chNormalization)                                                                                 \n",
            "                                                                                                  \n",
            " activation_3 (Activation)   (None, 256)                  0         ['batch_normalization_3[0][0]'\n",
            "                                                                    ]                             \n",
            "                                                                                                  \n",
            " dense_4 (Dense)             (None, 128)                  32896     ['activation_3[0][0]']        \n",
            "                                                                                                  \n",
            " encoded_OFDM_symbol (Lambd  (None, 64)                   0         ['dense_4[0][0]']             \n",
            " a)                                                                                               \n",
            "                                                                                                  \n",
            " tf.math.abs (TFOpLambda)    (None, 64)                   0         ['encoded_OFDM_symbol[0][0]'] \n",
            "                                                                                                  \n",
            " tf.math.square (TFOpLambda  (None, 64)                   0         ['tf.math.abs[0][0]']         \n",
            " )                                                                                                \n",
            "                                                                                                  \n",
            " tf.math.reduce_mean (TFOpL  ()                           0         ['tf.math.square[0][0]']      \n",
            " ambda)                                                                                           \n",
            "                                                                                                  \n",
            " tf.math.truediv (TFOpLambd  ()                           0         ['tf.math.reduce_mean[0][0]'] \n",
            " a)                                                                                               \n",
            "                                                                                                  \n",
            " tf.math.real (TFOpLambda)   ()                           0         ['tf.math.truediv[0][0]']     \n",
            "                                                                                                  \n",
            " tf.math.imag (TFOpLambda)   ()                           0         ['tf.math.truediv[0][0]']     \n",
            "                                                                                                  \n",
            " tf.dtypes.complex (TFOpLam  ()                           0         ['tf.math.real[0][0]',        \n",
            " bda)                                                                'tf.math.imag[0][0]']        \n",
            "                                                                                                  \n",
            " tf.__operators__.add (TFOp  ()                           0         ['tf.dtypes.complex[0][0]']   \n",
            " Lambda)                                                                                          \n",
            "                                                                                                  \n",
            " tf.__operators__.add_1 (TF  (None, 64)                   0         ['tf.__operators__.add[0][0]',\n",
            " OpLambda)                                                           'encoded_OFDM_symbol[0][0]'] \n",
            "                                                                                                  \n",
            " tf.signal.fft (TFOpLambda)  (None, 64)                   0         ['tf.__operators__.add_1[0][0]\n",
            "                                                                    ']                            \n",
            "                                                                                                  \n",
            " tf.math.real_1 (TFOpLambda  (None, 64)                   0         ['tf.signal.fft[0][0]']       \n",
            " )                                                                                                \n",
            "                                                                                                  \n",
            " tf.math.imag_1 (TFOpLambda  (None, 64)                   0         ['tf.signal.fft[0][0]']       \n",
            " )                                                                                                \n",
            "                                                                                                  \n",
            " concatenate (Concatenate)   (None, 128)                  0         ['tf.math.real_1[0][0]',      \n",
            "                                                                     'tf.math.imag_1[0][0]']      \n",
            "                                                                                                  \n",
            " dense_5 (Dense)             (None, 2048)                 264192    ['concatenate[0][0]']         \n",
            "                                                                                                  \n",
            " batch_normalization_4 (Bat  (None, 2048)                 4096      ['dense_5[0][0]']             \n",
            " chNormalization)                                                                                 \n",
            "                                                                                                  \n",
            " activation_4 (Activation)   (None, 2048)                 0         ['batch_normalization_4[0][0]'\n",
            "                                                                    ]                             \n",
            "                                                                                                  \n",
            " dense_6 (Dense)             (None, 1024)                 2098176   ['activation_4[0][0]']        \n",
            "                                                                                                  \n",
            " batch_normalization_5 (Bat  (None, 1024)                 2048      ['dense_6[0][0]']             \n",
            " chNormalization)                                                                                 \n",
            "                                                                                                  \n",
            " activation_5 (Activation)   (None, 1024)                 0         ['batch_normalization_5[0][0]'\n",
            "                                                                    ]                             \n",
            "                                                                                                  \n",
            " dense_7 (Dense)             (None, 512)                  524800    ['activation_5[0][0]']        \n",
            "                                                                                                  \n",
            " batch_normalization_6 (Bat  (None, 512)                  1024      ['dense_7[0][0]']             \n",
            " chNormalization)                                                                                 \n",
            "                                                                                                  \n",
            " activation_6 (Activation)   (None, 512)                  0         ['batch_normalization_6[0][0]'\n",
            "                                                                    ]                             \n",
            "                                                                                                  \n",
            " dense_8 (Dense)             (None, 256)                  131328    ['activation_6[0][0]']        \n",
            "                                                                                                  \n",
            " batch_normalization_7 (Bat  (None, 256)                  512       ['dense_8[0][0]']             \n",
            " chNormalization)                                                                                 \n",
            "                                                                                                  \n",
            " activation_7 (Activation)   (None, 256)                  0         ['batch_normalization_7[0][0]'\n",
            "                                                                    ]                             \n",
            "                                                                                                  \n",
            " predicted_bit_seq (Dense)   (None, 128)                  32896     ['activation_7[0][0]']        \n",
            "                                                                                                  \n",
            "==================================================================================================\n",
            "Total params: 6118144 (23.34 MB)\n",
            "Trainable params: 6102784 (23.28 MB)\n",
            "Non-trainable params: 15360 (60.00 KB)\n",
            "__________________________________________________________________________________________________\n",
            "None\n"
          ]
        }
      ]
    },
    {
      "cell_type": "code",
      "source": [
        "# perform training on the autoencoder model\n",
        "callback = EarlyStopping(monitor='loss', patience=10, verbose=1)\n",
        "\n",
        "history = autoencoder.fit(train_dataset, train_dataset, epochs= no_of_epochs, batch_size= batchsize, shuffle=True, callbacks=[callback], validation_split = 0.3)\n",
        "\n",
        "# Evaluate the accuracy of decoding the transmitted bit sequence\n",
        "results = autoencoder.evaluate(train_dataset, train_dataset, batch_size=batchsize)\n",
        "print('test_loss, test_acc:', results)\n",
        "\n"
      ],
      "metadata": {
        "id": "-ZGGpAm5k8MT",
        "colab": {
          "base_uri": "https://localhost:8080/"
        },
        "outputId": "19ffa87c-1f0d-4956-a990-9d7ad598217f"
      },
      "execution_count": 14,
      "outputs": [
        {
          "output_type": "stream",
          "name": "stdout",
          "text": [
            "Epoch 1/50\n",
            "35/35 [==============================] - 11s 196ms/step - loss: 0.7583 - encoded_OFDM_symbol_loss: 17.3881 - predicted_bit_seq_loss: 0.7417 - predicted_bit_seq_binary_accuracy: 0.5223 - val_loss: 2.0974 - val_encoded_OFDM_symbol_loss: 18.0608 - val_predicted_bit_seq_loss: 2.0815 - val_predicted_bit_seq_binary_accuracy: 0.4994\n",
            "Epoch 2/50\n",
            "35/35 [==============================] - 7s 199ms/step - loss: 0.6960 - encoded_OFDM_symbol_loss: 17.3534 - predicted_bit_seq_loss: 0.6793 - predicted_bit_seq_binary_accuracy: 0.5703 - val_loss: 1.7694 - val_encoded_OFDM_symbol_loss: 18.0617 - val_predicted_bit_seq_loss: 1.7530 - val_predicted_bit_seq_binary_accuracy: 0.4997\n",
            "Epoch 3/50\n",
            "35/35 [==============================] - 6s 178ms/step - loss: 0.6645 - encoded_OFDM_symbol_loss: 17.3157 - predicted_bit_seq_loss: 0.6478 - predicted_bit_seq_binary_accuracy: 0.6136 - val_loss: 1.1132 - val_encoded_OFDM_symbol_loss: 18.0617 - val_predicted_bit_seq_loss: 1.0962 - val_predicted_bit_seq_binary_accuracy: 0.5001\n",
            "Epoch 4/50\n",
            "35/35 [==============================] - 7s 205ms/step - loss: 0.6379 - encoded_OFDM_symbol_loss: 17.2772 - predicted_bit_seq_loss: 0.6212 - predicted_bit_seq_binary_accuracy: 0.6494 - val_loss: 0.8847 - val_encoded_OFDM_symbol_loss: 18.0617 - val_predicted_bit_seq_loss: 0.8675 - val_predicted_bit_seq_binary_accuracy: 0.4991\n",
            "Epoch 5/50\n",
            "35/35 [==============================] - 6s 175ms/step - loss: 0.6117 - encoded_OFDM_symbol_loss: 17.2461 - predicted_bit_seq_loss: 0.5950 - predicted_bit_seq_binary_accuracy: 0.6808 - val_loss: 0.9748 - val_encoded_OFDM_symbol_loss: 18.0616 - val_predicted_bit_seq_loss: 0.9577 - val_predicted_bit_seq_binary_accuracy: 0.4983\n",
            "Epoch 6/50\n",
            "35/35 [==============================] - 7s 198ms/step - loss: 0.5868 - encoded_OFDM_symbol_loss: 17.2309 - predicted_bit_seq_loss: 0.5701 - predicted_bit_seq_binary_accuracy: 0.7047 - val_loss: 1.0335 - val_encoded_OFDM_symbol_loss: 18.0615 - val_predicted_bit_seq_loss: 1.0165 - val_predicted_bit_seq_binary_accuracy: 0.4990\n",
            "Epoch 7/50\n",
            "35/35 [==============================] - 6s 183ms/step - loss: 0.5625 - encoded_OFDM_symbol_loss: 17.2240 - predicted_bit_seq_loss: 0.5458 - predicted_bit_seq_binary_accuracy: 0.7269 - val_loss: 1.1174 - val_encoded_OFDM_symbol_loss: 18.0612 - val_predicted_bit_seq_loss: 1.1005 - val_predicted_bit_seq_binary_accuracy: 0.4993\n",
            "Epoch 8/50\n",
            "35/35 [==============================] - 7s 190ms/step - loss: 0.5402 - encoded_OFDM_symbol_loss: 17.2255 - predicted_bit_seq_loss: 0.5235 - predicted_bit_seq_binary_accuracy: 0.7461 - val_loss: 1.3214 - val_encoded_OFDM_symbol_loss: 18.0606 - val_predicted_bit_seq_loss: 1.3046 - val_predicted_bit_seq_binary_accuracy: 0.5000\n",
            "Epoch 9/50\n",
            "35/35 [==============================] - 7s 197ms/step - loss: 0.5207 - encoded_OFDM_symbol_loss: 17.2236 - predicted_bit_seq_loss: 0.5039 - predicted_bit_seq_binary_accuracy: 0.7605 - val_loss: 1.4611 - val_encoded_OFDM_symbol_loss: 18.0581 - val_predicted_bit_seq_loss: 1.4445 - val_predicted_bit_seq_binary_accuracy: 0.5020\n",
            "Epoch 10/50\n",
            "35/35 [==============================] - 6s 178ms/step - loss: 0.5036 - encoded_OFDM_symbol_loss: 17.2284 - predicted_bit_seq_loss: 0.4868 - predicted_bit_seq_binary_accuracy: 0.7743 - val_loss: 1.7544 - val_encoded_OFDM_symbol_loss: 18.0385 - val_predicted_bit_seq_loss: 1.7381 - val_predicted_bit_seq_binary_accuracy: 0.5040\n",
            "Epoch 11/50\n",
            "35/35 [==============================] - 7s 198ms/step - loss: 0.4877 - encoded_OFDM_symbol_loss: 17.2309 - predicted_bit_seq_loss: 0.4710 - predicted_bit_seq_binary_accuracy: 0.7856 - val_loss: 1.9362 - val_encoded_OFDM_symbol_loss: 18.0009 - val_predicted_bit_seq_loss: 1.9201 - val_predicted_bit_seq_binary_accuracy: 0.5136\n",
            "Epoch 12/50\n",
            "35/35 [==============================] - 6s 180ms/step - loss: 0.4729 - encoded_OFDM_symbol_loss: 17.2249 - predicted_bit_seq_loss: 0.4561 - predicted_bit_seq_binary_accuracy: 0.7959 - val_loss: 1.9600 - val_encoded_OFDM_symbol_loss: 17.8559 - val_predicted_bit_seq_loss: 1.9441 - val_predicted_bit_seq_binary_accuracy: 0.5225\n",
            "Epoch 13/50\n",
            "35/35 [==============================] - 7s 196ms/step - loss: 0.4579 - encoded_OFDM_symbol_loss: 17.2251 - predicted_bit_seq_loss: 0.4411 - predicted_bit_seq_binary_accuracy: 0.8069 - val_loss: 2.3483 - val_encoded_OFDM_symbol_loss: 17.7531 - val_predicted_bit_seq_loss: 2.3329 - val_predicted_bit_seq_binary_accuracy: 0.5274\n",
            "Epoch 14/50\n",
            "35/35 [==============================] - 8s 223ms/step - loss: 0.4444 - encoded_OFDM_symbol_loss: 17.2251 - predicted_bit_seq_loss: 0.4276 - predicted_bit_seq_binary_accuracy: 0.8154 - val_loss: 2.2931 - val_encoded_OFDM_symbol_loss: 17.5448 - val_predicted_bit_seq_loss: 2.2778 - val_predicted_bit_seq_binary_accuracy: 0.5426\n",
            "Epoch 15/50\n",
            "35/35 [==============================] - 7s 195ms/step - loss: 0.4324 - encoded_OFDM_symbol_loss: 17.2280 - predicted_bit_seq_loss: 0.4156 - predicted_bit_seq_binary_accuracy: 0.8232 - val_loss: 2.3157 - val_encoded_OFDM_symbol_loss: 17.3466 - val_predicted_bit_seq_loss: 2.3006 - val_predicted_bit_seq_binary_accuracy: 0.5462\n",
            "Epoch 16/50\n",
            "35/35 [==============================] - 6s 178ms/step - loss: 0.4200 - encoded_OFDM_symbol_loss: 17.2254 - predicted_bit_seq_loss: 0.4032 - predicted_bit_seq_binary_accuracy: 0.8313 - val_loss: 2.8040 - val_encoded_OFDM_symbol_loss: 17.1999 - val_predicted_bit_seq_loss: 2.7896 - val_predicted_bit_seq_binary_accuracy: 0.5531\n",
            "Epoch 17/50\n",
            "35/35 [==============================] - 7s 201ms/step - loss: 0.4083 - encoded_OFDM_symbol_loss: 17.2243 - predicted_bit_seq_loss: 0.3915 - predicted_bit_seq_binary_accuracy: 0.8384 - val_loss: 2.0273 - val_encoded_OFDM_symbol_loss: 16.9963 - val_predicted_bit_seq_loss: 2.0124 - val_predicted_bit_seq_binary_accuracy: 0.5643\n",
            "Epoch 18/50\n",
            "35/35 [==============================] - 6s 178ms/step - loss: 0.3977 - encoded_OFDM_symbol_loss: 17.2165 - predicted_bit_seq_loss: 0.3809 - predicted_bit_seq_binary_accuracy: 0.8447 - val_loss: 2.5908 - val_encoded_OFDM_symbol_loss: 16.9779 - val_predicted_bit_seq_loss: 2.5764 - val_predicted_bit_seq_binary_accuracy: 0.5568\n",
            "Epoch 19/50\n",
            "35/35 [==============================] - 7s 203ms/step - loss: 0.3866 - encoded_OFDM_symbol_loss: 17.2102 - predicted_bit_seq_loss: 0.3697 - predicted_bit_seq_binary_accuracy: 0.8520 - val_loss: 2.4937 - val_encoded_OFDM_symbol_loss: 16.8546 - val_predicted_bit_seq_loss: 2.4793 - val_predicted_bit_seq_binary_accuracy: 0.5645\n",
            "Epoch 20/50\n",
            "35/35 [==============================] - 6s 178ms/step - loss: 0.3764 - encoded_OFDM_symbol_loss: 17.2069 - predicted_bit_seq_loss: 0.3595 - predicted_bit_seq_binary_accuracy: 0.8582 - val_loss: 2.4907 - val_encoded_OFDM_symbol_loss: 16.9077 - val_predicted_bit_seq_loss: 2.4762 - val_predicted_bit_seq_binary_accuracy: 0.5625\n",
            "Epoch 21/50\n",
            "35/35 [==============================] - 7s 197ms/step - loss: 0.3673 - encoded_OFDM_symbol_loss: 17.2026 - predicted_bit_seq_loss: 0.3504 - predicted_bit_seq_binary_accuracy: 0.8630 - val_loss: 2.6905 - val_encoded_OFDM_symbol_loss: 16.7393 - val_predicted_bit_seq_loss: 2.6764 - val_predicted_bit_seq_binary_accuracy: 0.5673\n",
            "Epoch 22/50\n",
            "35/35 [==============================] - 6s 178ms/step - loss: 0.3571 - encoded_OFDM_symbol_loss: 17.1985 - predicted_bit_seq_loss: 0.3402 - predicted_bit_seq_binary_accuracy: 0.8689 - val_loss: 2.5103 - val_encoded_OFDM_symbol_loss: 16.9599 - val_predicted_bit_seq_loss: 2.4958 - val_predicted_bit_seq_binary_accuracy: 0.5691\n",
            "Epoch 23/50\n",
            "35/35 [==============================] - 7s 195ms/step - loss: 0.3475 - encoded_OFDM_symbol_loss: 17.1966 - predicted_bit_seq_loss: 0.3307 - predicted_bit_seq_binary_accuracy: 0.8747 - val_loss: 2.0503 - val_encoded_OFDM_symbol_loss: 16.7544 - val_predicted_bit_seq_loss: 2.0356 - val_predicted_bit_seq_binary_accuracy: 0.5709\n",
            "Epoch 24/50\n",
            "35/35 [==============================] - 7s 199ms/step - loss: 0.3388 - encoded_OFDM_symbol_loss: 17.2025 - predicted_bit_seq_loss: 0.3219 - predicted_bit_seq_binary_accuracy: 0.8798 - val_loss: 1.9010 - val_encoded_OFDM_symbol_loss: 16.8429 - val_predicted_bit_seq_loss: 1.8860 - val_predicted_bit_seq_binary_accuracy: 0.5748\n",
            "Epoch 25/50\n",
            "35/35 [==============================] - 6s 183ms/step - loss: 0.3297 - encoded_OFDM_symbol_loss: 17.1937 - predicted_bit_seq_loss: 0.3128 - predicted_bit_seq_binary_accuracy: 0.8848 - val_loss: 2.0042 - val_encoded_OFDM_symbol_loss: 16.7040 - val_predicted_bit_seq_loss: 1.9895 - val_predicted_bit_seq_binary_accuracy: 0.5731\n",
            "Epoch 26/50\n",
            "35/35 [==============================] - 7s 204ms/step - loss: 0.3223 - encoded_OFDM_symbol_loss: 17.1887 - predicted_bit_seq_loss: 0.3054 - predicted_bit_seq_binary_accuracy: 0.8887 - val_loss: 1.6334 - val_encoded_OFDM_symbol_loss: 16.8437 - val_predicted_bit_seq_loss: 1.6181 - val_predicted_bit_seq_binary_accuracy: 0.5778\n",
            "Epoch 27/50\n",
            "35/35 [==============================] - 6s 182ms/step - loss: 0.3138 - encoded_OFDM_symbol_loss: 17.1908 - predicted_bit_seq_loss: 0.2969 - predicted_bit_seq_binary_accuracy: 0.8930 - val_loss: 2.1684 - val_encoded_OFDM_symbol_loss: 16.8362 - val_predicted_bit_seq_loss: 2.1537 - val_predicted_bit_seq_binary_accuracy: 0.5700\n",
            "Epoch 28/50\n",
            "35/35 [==============================] - 7s 201ms/step - loss: 0.3052 - encoded_OFDM_symbol_loss: 17.1889 - predicted_bit_seq_loss: 0.2883 - predicted_bit_seq_binary_accuracy: 0.8982 - val_loss: 2.0460 - val_encoded_OFDM_symbol_loss: 16.7821 - val_predicted_bit_seq_loss: 2.0313 - val_predicted_bit_seq_binary_accuracy: 0.5691\n",
            "Epoch 29/50\n",
            "35/35 [==============================] - 6s 181ms/step - loss: 0.2975 - encoded_OFDM_symbol_loss: 17.1931 - predicted_bit_seq_loss: 0.2806 - predicted_bit_seq_binary_accuracy: 0.9027 - val_loss: 2.7656 - val_encoded_OFDM_symbol_loss: 16.9110 - val_predicted_bit_seq_loss: 2.7514 - val_predicted_bit_seq_binary_accuracy: 0.5656\n",
            "Epoch 30/50\n",
            "35/35 [==============================] - 7s 202ms/step - loss: 0.2913 - encoded_OFDM_symbol_loss: 17.1839 - predicted_bit_seq_loss: 0.2744 - predicted_bit_seq_binary_accuracy: 0.9052 - val_loss: 1.9480 - val_encoded_OFDM_symbol_loss: 16.8493 - val_predicted_bit_seq_loss: 1.9331 - val_predicted_bit_seq_binary_accuracy: 0.5725\n",
            "Epoch 31/50\n",
            "35/35 [==============================] - 6s 179ms/step - loss: 0.2836 - encoded_OFDM_symbol_loss: 17.1789 - predicted_bit_seq_loss: 0.2667 - predicted_bit_seq_binary_accuracy: 0.9096 - val_loss: 1.8633 - val_encoded_OFDM_symbol_loss: 16.8752 - val_predicted_bit_seq_loss: 1.8483 - val_predicted_bit_seq_binary_accuracy: 0.5679\n",
            "Epoch 32/50\n",
            "35/35 [==============================] - 7s 202ms/step - loss: 0.2767 - encoded_OFDM_symbol_loss: 17.1773 - predicted_bit_seq_loss: 0.2598 - predicted_bit_seq_binary_accuracy: 0.9128 - val_loss: 2.0194 - val_encoded_OFDM_symbol_loss: 16.9795 - val_predicted_bit_seq_loss: 2.0045 - val_predicted_bit_seq_binary_accuracy: 0.5725\n",
            "Epoch 33/50\n",
            "35/35 [==============================] - 6s 176ms/step - loss: 0.2699 - encoded_OFDM_symbol_loss: 17.1740 - predicted_bit_seq_loss: 0.2530 - predicted_bit_seq_binary_accuracy: 0.9160 - val_loss: 2.1413 - val_encoded_OFDM_symbol_loss: 16.8636 - val_predicted_bit_seq_loss: 2.1265 - val_predicted_bit_seq_binary_accuracy: 0.5672\n",
            "Epoch 34/50\n",
            "35/35 [==============================] - 7s 202ms/step - loss: 0.2639 - encoded_OFDM_symbol_loss: 17.1713 - predicted_bit_seq_loss: 0.2469 - predicted_bit_seq_binary_accuracy: 0.9199 - val_loss: 1.6292 - val_encoded_OFDM_symbol_loss: 16.9715 - val_predicted_bit_seq_loss: 1.6139 - val_predicted_bit_seq_binary_accuracy: 0.5672\n",
            "Epoch 35/50\n",
            "35/35 [==============================] - 6s 174ms/step - loss: 0.2574 - encoded_OFDM_symbol_loss: 17.1669 - predicted_bit_seq_loss: 0.2405 - predicted_bit_seq_binary_accuracy: 0.9225 - val_loss: 1.7842 - val_encoded_OFDM_symbol_loss: 16.9485 - val_predicted_bit_seq_loss: 1.7690 - val_predicted_bit_seq_binary_accuracy: 0.5652\n",
            "Epoch 36/50\n",
            "35/35 [==============================] - 7s 201ms/step - loss: 0.2522 - encoded_OFDM_symbol_loss: 17.1644 - predicted_bit_seq_loss: 0.2353 - predicted_bit_seq_binary_accuracy: 0.9248 - val_loss: 1.7710 - val_encoded_OFDM_symbol_loss: 16.8845 - val_predicted_bit_seq_loss: 1.7559 - val_predicted_bit_seq_binary_accuracy: 0.5689\n",
            "Epoch 37/50\n",
            "35/35 [==============================] - 6s 177ms/step - loss: 0.2463 - encoded_OFDM_symbol_loss: 17.1612 - predicted_bit_seq_loss: 0.2294 - predicted_bit_seq_binary_accuracy: 0.9277 - val_loss: 1.8370 - val_encoded_OFDM_symbol_loss: 16.9210 - val_predicted_bit_seq_loss: 1.8219 - val_predicted_bit_seq_binary_accuracy: 0.5599\n",
            "Epoch 38/50\n",
            "35/35 [==============================] - 7s 203ms/step - loss: 0.2402 - encoded_OFDM_symbol_loss: 17.1591 - predicted_bit_seq_loss: 0.2233 - predicted_bit_seq_binary_accuracy: 0.9312 - val_loss: 1.9501 - val_encoded_OFDM_symbol_loss: 16.9122 - val_predicted_bit_seq_loss: 1.9352 - val_predicted_bit_seq_binary_accuracy: 0.5696\n",
            "Epoch 39/50\n",
            "35/35 [==============================] - 6s 175ms/step - loss: 0.2334 - encoded_OFDM_symbol_loss: 17.1541 - predicted_bit_seq_loss: 0.2165 - predicted_bit_seq_binary_accuracy: 0.9350 - val_loss: 1.9380 - val_encoded_OFDM_symbol_loss: 16.9801 - val_predicted_bit_seq_loss: 1.9230 - val_predicted_bit_seq_binary_accuracy: 0.5748\n",
            "Epoch 40/50\n",
            "35/35 [==============================] - 7s 199ms/step - loss: 0.2281 - encoded_OFDM_symbol_loss: 17.1529 - predicted_bit_seq_loss: 0.2112 - predicted_bit_seq_binary_accuracy: 0.9369 - val_loss: 1.7503 - val_encoded_OFDM_symbol_loss: 16.9096 - val_predicted_bit_seq_loss: 1.7351 - val_predicted_bit_seq_binary_accuracy: 0.5643\n",
            "Epoch 41/50\n",
            "35/35 [==============================] - 7s 188ms/step - loss: 0.2235 - encoded_OFDM_symbol_loss: 17.1522 - predicted_bit_seq_loss: 0.2065 - predicted_bit_seq_binary_accuracy: 0.9388 - val_loss: 1.6766 - val_encoded_OFDM_symbol_loss: 17.0403 - val_predicted_bit_seq_loss: 1.6613 - val_predicted_bit_seq_binary_accuracy: 0.5753\n",
            "Epoch 42/50\n",
            "35/35 [==============================] - 7s 188ms/step - loss: 0.2189 - encoded_OFDM_symbol_loss: 17.1503 - predicted_bit_seq_loss: 0.2019 - predicted_bit_seq_binary_accuracy: 0.9414 - val_loss: 1.8532 - val_encoded_OFDM_symbol_loss: 17.0397 - val_predicted_bit_seq_loss: 1.8380 - val_predicted_bit_seq_binary_accuracy: 0.5560\n",
            "Epoch 43/50\n",
            "35/35 [==============================] - 7s 208ms/step - loss: 0.2148 - encoded_OFDM_symbol_loss: 17.1427 - predicted_bit_seq_loss: 0.1979 - predicted_bit_seq_binary_accuracy: 0.9430 - val_loss: 1.8174 - val_encoded_OFDM_symbol_loss: 17.0190 - val_predicted_bit_seq_loss: 1.8022 - val_predicted_bit_seq_binary_accuracy: 0.5589\n",
            "Epoch 44/50\n",
            "35/35 [==============================] - 6s 182ms/step - loss: 0.2102 - encoded_OFDM_symbol_loss: 17.1411 - predicted_bit_seq_loss: 0.1933 - predicted_bit_seq_binary_accuracy: 0.9450 - val_loss: 1.5736 - val_encoded_OFDM_symbol_loss: 17.0296 - val_predicted_bit_seq_loss: 1.5581 - val_predicted_bit_seq_binary_accuracy: 0.5765\n",
            "Epoch 45/50\n",
            "35/35 [==============================] - 7s 205ms/step - loss: 0.2060 - encoded_OFDM_symbol_loss: 17.1370 - predicted_bit_seq_loss: 0.1890 - predicted_bit_seq_binary_accuracy: 0.9470 - val_loss: 1.3417 - val_encoded_OFDM_symbol_loss: 16.9956 - val_predicted_bit_seq_loss: 1.3260 - val_predicted_bit_seq_binary_accuracy: 0.5694\n",
            "Epoch 46/50\n",
            "35/35 [==============================] - 11s 323ms/step - loss: 0.2020 - encoded_OFDM_symbol_loss: 17.1373 - predicted_bit_seq_loss: 0.1850 - predicted_bit_seq_binary_accuracy: 0.9485 - val_loss: 1.5629 - val_encoded_OFDM_symbol_loss: 16.9468 - val_predicted_bit_seq_loss: 1.5475 - val_predicted_bit_seq_binary_accuracy: 0.5862\n",
            "Epoch 47/50\n",
            "35/35 [==============================] - 6s 176ms/step - loss: 0.1971 - encoded_OFDM_symbol_loss: 17.1332 - predicted_bit_seq_loss: 0.1801 - predicted_bit_seq_binary_accuracy: 0.9505 - val_loss: 1.6056 - val_encoded_OFDM_symbol_loss: 17.0126 - val_predicted_bit_seq_loss: 1.5901 - val_predicted_bit_seq_binary_accuracy: 0.5922\n",
            "Epoch 48/50\n",
            "35/35 [==============================] - 7s 201ms/step - loss: 0.1928 - encoded_OFDM_symbol_loss: 17.1274 - predicted_bit_seq_loss: 0.1759 - predicted_bit_seq_binary_accuracy: 0.9526 - val_loss: 1.8516 - val_encoded_OFDM_symbol_loss: 17.0239 - val_predicted_bit_seq_loss: 1.8364 - val_predicted_bit_seq_binary_accuracy: 0.5757\n",
            "Epoch 49/50\n",
            "35/35 [==============================] - 6s 177ms/step - loss: 0.1884 - encoded_OFDM_symbol_loss: 17.1254 - predicted_bit_seq_loss: 0.1714 - predicted_bit_seq_binary_accuracy: 0.9547 - val_loss: 1.6433 - val_encoded_OFDM_symbol_loss: 17.1667 - val_predicted_bit_seq_loss: 1.6277 - val_predicted_bit_seq_binary_accuracy: 0.5667\n",
            "Epoch 50/50\n",
            "35/35 [==============================] - 7s 206ms/step - loss: 0.1851 - encoded_OFDM_symbol_loss: 17.1235 - predicted_bit_seq_loss: 0.1681 - predicted_bit_seq_binary_accuracy: 0.9562 - val_loss: 1.6382 - val_encoded_OFDM_symbol_loss: 16.8847 - val_predicted_bit_seq_loss: 1.6229 - val_predicted_bit_seq_binary_accuracy: 0.5620\n",
            "50/50 [==============================] - 2s 38ms/step - loss: 1.5094 - encoded_OFDM_symbol_loss: 16.5434 - predicted_bit_seq_loss: 1.4943 - predicted_bit_seq_binary_accuracy: 0.5889\n",
            "test_loss, test_acc: [1.5093740224838257, 16.543394088745117, 1.4943252801895142, 0.5889015793800354]\n"
          ]
        }
      ]
    },
    {
      "cell_type": "code",
      "source": [
        "def PAPR_of_Encoded_OFDM(encoded_data, dataset_size):\n",
        "    PAPR_values = []  # Initialize a list to store PAPR values\n",
        "\n",
        "    for symbol in encoded_symbols:\n",
        "        peak_power = np.max(np.abs(symbol) ** 2)\n",
        "        av_power = np.mean(np.abs(symbol) ** 2)\n",
        "        PAPR = peak_power / av_power\n",
        "        db_PAPR = 10 * np.log10(PAPR) #turn into decibels\n",
        "        PAPR_values.append(db_PAPR) #turn it into a list\n",
        "    PAPR_db = np.array(PAPR_values)\n",
        "    return PAPR_db\n",
        "\n",
        "def Modulation(data_non_modulated, N, size):\n",
        "    data_modulated = np.zeros((size,N),dtype=complex)\n",
        "    mod = QAM(M, gray_map=True)\n",
        "\n",
        "    for i in range(size):\n",
        "        data_modulated[i,:] = mod.modulate(data_non_modulated[i,:])\n",
        "    return data_modulated\n",
        "\n",
        "def PAPR_of_Classical_OFDM(modulated_data, dataset_size):\n",
        "    PAPR_values = [] # Initialize a list to store PAPR values\n",
        "\n",
        "    for symbol in modulated_data:\n",
        "      ifft_symbol = tf.signal.ifft(symbol)\n",
        "      peak_power = np.max(np.abs(ifft_symbol) ** 2)\n",
        "      av_power = np.mean(np.abs(ifft_symbol) ** 2)\n",
        "      PAPR = peak_power / av_power\n",
        "      db_PAPR = 10 * np.log10(PAPR) #turn into decibels\n",
        "      PAPR_values.append(db_PAPR) #turn it into a list\n",
        "    PAPR_db = np.array(PAPR_values)\n",
        "    return PAPR_db"
      ],
      "metadata": {
        "id": "IIbI1weqWaE9"
      },
      "execution_count": 15,
      "outputs": []
    },
    {
      "cell_type": "code",
      "source": [
        "# give the test_dataset to the trained autoencoder model to produce predictions\n",
        "encoded_symbols, blabla = autoencoder.predict(test_dataset, batch_size = batchsize)\n",
        "print(encoded_symbols)\n",
        "print(\"Shape of Autoencoder Output Encoded Symbols:\", encoded_symbols.shape)\n",
        "\n",
        "Autoencoder_PAPR = PAPR_of_Encoded_OFDM(encoded_symbols, test_dataset_size)\n",
        "# Print Autoencoder PAPR values\n",
        "print(Autoencoder_PAPR)\n",
        "print(\"Shape of the Autoencoder PAPR Values:\", Autoencoder_PAPR.shape)\n",
        "\n",
        "av_papr = np.mean(Autoencoder_PAPR)\n",
        "av_papr_dB = 10 * np.log10(av_papr)\n",
        "print(\"Autoencoder average PAPR Value:\", av_papr_dB)"
      ],
      "metadata": {
        "id": "0wRqTabSlA_z",
        "colab": {
          "base_uri": "https://localhost:8080/"
        },
        "outputId": "846d3b41-853b-4be5-b7d6-fa2f0cfa23c4"
      },
      "execution_count": 16,
      "outputs": [
        {
          "output_type": "stream",
          "name": "stdout",
          "text": [
            "2000/2000 [==============================] - 70s 35ms/step\n",
            "[[ 0.4503098 +0.45743853j  0.06577077+0.04799162j -0.0299861 +0.02039906j\n",
            "  ... -0.03283386-0.06812052j -0.02351253+0.02226646j\n",
            "   0.01116319-0.02340224j]\n",
            " [ 0.48390928+0.47152823j -0.01225367-0.00942424j -0.01763678+0.00679478j\n",
            "  ... -0.02564916-0.05349276j -0.06055491+0.02005935j\n",
            "   0.00441531+0.00432184j]\n",
            " [ 0.49214318+0.44203326j  0.00232829-0.04217337j -0.02545857+0.0266894j\n",
            "  ...  0.00596637-0.05621819j -0.04111374+0.06701903j\n",
            "  -0.01346496+0.05450277j]\n",
            " ...\n",
            " [ 0.43698677+0.4630744j   0.00696266+0.00912352j -0.02188423-0.02427686j\n",
            "  ... -0.01779006-0.05246337j  0.01373956+0.01895735j\n",
            "   0.01754291+0.02304513j]\n",
            " [ 0.46351454+0.4873395j  -0.05730154-0.02327275j -0.00549099+0.03868929j\n",
            "  ... -0.03794684-0.05395224j  0.01217681+0.0367532j\n",
            "  -0.04013445-0.0168378j ]\n",
            " [ 0.46873325+0.4923475j  -0.01349556-0.03718273j  0.00062801-0.04922437j\n",
            "  ... -0.03082648-0.04207912j  0.029346  +0.08320145j\n",
            "  -0.01131822+0.0242962j ]]\n",
            "Shape of Autoencoder Output Encoded Symbols: (200000, 64)\n",
            "[16.5986383  17.25116849 16.71742439 ... 17.08975196 16.94248557\n",
            " 17.09217787]\n",
            "Shape of the Autoencoder PAPR Values: (200000,)\n",
            "Autoencoder average PAPR Value: 12.2707881012883\n"
          ]
        }
      ]
    },
    {
      "cell_type": "code",
      "source": [
        "Modulated_Data = Modulation(test_dataset, N, test_dataset_size)\n",
        "print(Modulated_Data)\n",
        "print(Modulated_Data.shape)\n",
        "\n",
        "OFDM_PAPR = PAPR_of_Classical_OFDM(Modulated_Data, test_dataset_size)\n",
        "print(OFDM_PAPR)\n",
        "print(OFDM_PAPR.shape)\n"
      ],
      "metadata": {
        "id": "8Jy5nDlGa7IW",
        "colab": {
          "base_uri": "https://localhost:8080/"
        },
        "outputId": "69f806bf-2053-4ab8-ef67-e88e02333206"
      },
      "execution_count": 17,
      "outputs": [
        {
          "output_type": "stream",
          "name": "stdout",
          "text": [
            "[[ 1.+1.j  1.+1.j  1.-1.j ...  1.-1.j  1.+1.j  1.+1.j]\n",
            " [ 1.+1.j  1.-1.j -1.+1.j ...  1.-1.j -1.+1.j  1.-1.j]\n",
            " [-1.+1.j -1.-1.j -1.+1.j ... -1.+1.j -1.+1.j -1.+1.j]\n",
            " ...\n",
            " [-1.-1.j -1.-1.j -1.+1.j ...  1.+1.j -1.+1.j  1.-1.j]\n",
            " [ 1.-1.j -1.-1.j -1.+1.j ...  1.-1.j  1.+1.j  1.+1.j]\n",
            " [-1.-1.j -1.+1.j  1.+1.j ...  1.-1.j  1.-1.j  1.+1.j]]\n",
            "(200000, 64)\n",
            "[6.59202874 5.94936252 7.22736776 ... 7.24317074 7.51497328 5.41219354]\n",
            "(200000,)\n"
          ]
        }
      ]
    },
    {
      "cell_type": "code",
      "source": [
        "av_papr_class = np.mean(OFDM_PAPR)\n",
        "av_papr_class_dB = 10 * np.log10(av_papr_class)\n",
        "print(\"Classical average PAPR Value:\", av_papr_class_dB)"
      ],
      "metadata": {
        "id": "1Y1zgLbriSRU",
        "colab": {
          "base_uri": "https://localhost:8080/"
        },
        "outputId": "7d340b90-4671-4107-81c2-49a4cbdd8df6"
      },
      "execution_count": 18,
      "outputs": [
        {
          "output_type": "stream",
          "name": "stdout",
          "text": [
            "Classical average PAPR Value: 8.259838157203772\n"
          ]
        }
      ]
    },
    {
      "cell_type": "code",
      "source": [
        "# note : plotting still in progress\n",
        "plt.figure(1)\n",
        "plt.xlabel('PAPR_ref in db')\n",
        "plt.ylabel('Probability (PAPR_actual > PAPR_ref)')\n",
        "plt.title(\"Autoencoder-based OFDM vs Classical OFDM\")\n",
        "plt.yscale('log')\n",
        "plt.ylim(0.001, 1.2)\n",
        "plt.grid(True, which=\"both\")\n",
        "\n",
        "# compute and plot bin edges on the x-axis and probability on y-axis for both schemes\n",
        "hist_auto, bins_auto = np.histogram(Autoencoder_PAPR, bins=100)\n",
        "hist_class, bins_class = np.histogram(OFDM_PAPR, bins=100)\n",
        "\n",
        "# Calculate the CDF for PAPR values\n",
        "autoencoder_papr_cdf = tf.math.cumsum(hist_auto[::-1])[::-1] / len(Autoencoder_PAPR)\n",
        "classical_ofdm_papr_cdf = tf.math.cumsum(hist_class[::-1])[::-1] / len(OFDM_PAPR)\n",
        "\n",
        "# Calculate the probability that PAPR > threshold for both schemes\n",
        "autoencoder_papr_prob =  1 - autoencoder_papr_cdf\n",
        "classical_ofdm_papr_prob = 1 - classical_ofdm_papr_cdf\n",
        "\n",
        "plt.plot(bins_auto[:-1], autoencoder_papr_prob, 'r', label = 'Autoencoder')\n",
        "plt.plot(bins_class[:-1], classical_ofdm_papr_prob, 'b', label = 'Classical')\n",
        "\n",
        "plt.legend(['Autoencoder','Classical'])\n",
        "plt.show()"
      ],
      "metadata": {
        "colab": {
          "base_uri": "https://localhost:8080/",
          "height": 472
        },
        "id": "cRjy1vR8H-f-",
        "outputId": "86d1a41b-3697-4dab-f899-51f1549f77e6"
      },
      "execution_count": 19,
      "outputs": [
        {
          "output_type": "display_data",
          "data": {
            "text/plain": [
              "<Figure size 640x480 with 1 Axes>"
            ],
            "image/png": "[encoded data removed]"
          },
          "metadata": {}
        }
      ]
    }
  ]
}